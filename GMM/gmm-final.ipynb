{
 "cells": [
  {
   "cell_type": "code",
   "execution_count": 1,
   "id": "6757bac9",
   "metadata": {
    "_cell_guid": "b1076dfc-b9ad-4769-8c92-a6c4dae69d19",
    "_uuid": "8f2839f25d086af736a60e9eeb907d3b93b6e0e5",
    "execution": {
     "iopub.execute_input": "2024-03-21T11:35:36.192640Z",
     "iopub.status.busy": "2024-03-21T11:35:36.192110Z",
     "iopub.status.idle": "2024-03-21T11:35:40.763508Z",
     "shell.execute_reply": "2024-03-21T11:35:40.762564Z"
    },
    "papermill": {
     "duration": 4.582156,
     "end_time": "2024-03-21T11:35:40.766064",
     "exception": false,
     "start_time": "2024-03-21T11:35:36.183908",
     "status": "completed"
    },
    "tags": []
   },
   "outputs": [
    {
     "data": {
      "text/html": [
       "        <script type=\"text/javascript\">\n",
       "        window.PlotlyConfig = {MathJaxConfig: 'local'};\n",
       "        if (window.MathJax && window.MathJax.Hub && window.MathJax.Hub.Config) {window.MathJax.Hub.Config({SVG: {font: \"STIX-Web\"}});}\n",
       "        if (typeof require !== 'undefined') {\n",
       "        require.undef(\"plotly\");\n",
       "        requirejs.config({\n",
       "            paths: {\n",
       "                'plotly': ['https://cdn.plot.ly/plotly-2.27.0.min']\n",
       "            }\n",
       "        });\n",
       "        require(['plotly'], function(Plotly) {\n",
       "            window._Plotly = Plotly;\n",
       "        });\n",
       "        }\n",
       "        </script>\n",
       "        "
      ]
     },
     "metadata": {},
     "output_type": "display_data"
    }
   ],
   "source": [
    "import os\n",
    "from pathlib import Path\n",
    "import librosa\n",
    "import librosa.display\n",
    "import IPython.display as ipd\n",
    "import matplotlib.pyplot as plt\n",
    "import numpy as np\n",
    "import os\n",
    "from os.path import isdir, join\n",
    "from pathlib import Path\n",
    "import pandas as pd\n",
    "from sklearn.decomposition import PCA\n",
    "import plotly.express as px\n",
    "\n",
    "import matplotlib.pyplot as plt\n",
    "# Math\n",
    "import numpy as np\n",
    "from scipy.fftpack import fft\n",
    "from scipy import signal\n",
    "from scipy.io import wavfile\n",
    "import librosa\n",
    "import pickle\n",
    "\n",
    "from sklearn.decomposition import PCA\n",
    "from sklearn.mixture import GaussianMixture\n",
    "\n",
    "# Visualization\n",
    "import matplotlib.pyplot as plt\n",
    "import seaborn as sns\n",
    "import IPython.display as ipd\n",
    "import librosa.display\n",
    "\n",
    "import plotly.offline as py\n",
    "py.init_notebook_mode(connected=True)\n",
    "import plotly.graph_objs as go\n",
    "import plotly.tools as tls\n",
    "import pandas as pd\n",
    "\n",
    "%matplotlib inline"
   ]
  },
  {
   "cell_type": "markdown",
   "id": "46b3db8c",
   "metadata": {
    "papermill": {
     "duration": 0.005912,
     "end_time": "2024-03-21T11:35:40.778600",
     "exception": false,
     "start_time": "2024-03-21T11:35:40.772688",
     "status": "completed"
    },
    "tags": []
   },
   "source": [
    "# Record Audio"
   ]
  },
  {
   "cell_type": "code",
   "execution_count": 2,
   "id": "dba63856",
   "metadata": {
    "execution": {
     "iopub.execute_input": "2024-03-21T11:35:57.247134Z",
     "iopub.status.busy": "2024-03-21T11:35:57.246709Z",
     "iopub.status.idle": "2024-03-21T11:35:57.256524Z",
     "shell.execute_reply": "2024-03-21T11:35:57.255270Z"
    },
    "papermill": {
     "duration": 0.020819,
     "end_time": "2024-03-21T11:35:57.258945",
     "exception": false,
     "start_time": "2024-03-21T11:35:57.238126",
     "status": "completed"
    },
    "tags": []
   },
   "outputs": [],
   "source": [
    "def feature_extractor(sound_path, win_length_ms=25, hop_length_ms=10):\n",
    "    # Load the audio file\n",
    "    signal, sr = librosa.load(sound_path,sr=8000)\n",
    "    # signal,sr = wavfile.read(sound_path)\n",
    "    # Extract MFCCs\n",
    "    win_length_samples = int(sr * win_length_ms / 1000)\n",
    "    hop_length_samples = int(sr * hop_length_ms / 1000)\n",
    "    mfccs = librosa.feature.mfcc(y=signal, sr=sr, n_mfcc=13, hop_length=hop_length_samples, win_length=win_length_samples)\n",
    "    # mfccs = mfcc(signal,samplerate=sr,nfft = 2048,numcep=13,nfilt=13)\n",
    "    \n",
    "    #Extract first MFCCs derivatives\n",
    "    delta_mfccs = librosa.feature.delta(mfccs)\n",
    "    \n",
    "    # Extract second MFCCs derivatives\n",
    "    delta2_mfccs = librosa.feature.delta(mfccs, order=2)\n",
    "    \n",
    "    # # Concatenate features\n",
    "    mfccs_features = np.concatenate((mfccs, delta_mfccs, delta2_mfccs))\n",
    "    \n",
    "    # Return all features\n",
    "    return mfccs, delta_mfccs, delta2_mfccs, mfccs_features"
   ]
  },
  {
   "cell_type": "code",
   "execution_count": 3,
   "id": "11d83e5d",
   "metadata": {
    "execution": {
     "iopub.execute_input": "2024-03-21T11:35:57.274922Z",
     "iopub.status.busy": "2024-03-21T11:35:57.274488Z",
     "iopub.status.idle": "2024-03-21T11:35:57.285185Z",
     "shell.execute_reply": "2024-03-21T11:35:57.283916Z"
    },
    "papermill": {
     "duration": 0.02169,
     "end_time": "2024-03-21T11:35:57.287728",
     "exception": false,
     "start_time": "2024-03-21T11:35:57.266038",
     "status": "completed"
    },
    "tags": []
   },
   "outputs": [],
   "source": [
    "def preprocess(path, is_pca=0, num_pca = 2, window_length_ms=20, hop_length_ms=10):\n",
    "    '''\n",
    "    Return the numpy array\n",
    "    '''\n",
    "    # Get the path of the audio file\n",
    "    audio_file = Path(path)\n",
    "    samples,sample_rate = librosa.load(audio_file,sr=8000)\n",
    "    # print(f\"The original samples are {samples.shape} and sample rate is {sample_rate}\")\n",
    "    # Remove silence at start and end\n",
    "    # TODO: Apply VAD\n",
    "    # samples_trimmed, _= librosa.effects.trim(samples, top_db=60)\n",
    "    a, b, c, d = feature_extractor(audio_file,window_length_ms,hop_length_ms)\n",
    "    # tot= np.concatenate((a,b,c,d)).T\n",
    "    tot = d.T\n",
    "          \n",
    "    # Create a DataFrame with column names as MFCC_1, MFCC_2, etc.\n",
    "    columns = [f'MFCC_{i+1}' for i in range(tot.shape[1])]\n",
    "    df = pd.DataFrame(tot, columns=columns)\n",
    "\n",
    "    # Save the DataFrame to a CSV file\n",
    "    #csv_filename = '{path}.csv'\n",
    "    #df.to_csv(csv_filename, index=False)\n",
    "    \n",
    "    if(is_pca==1):\n",
    "        pca = PCA(n_components=num_pca)\n",
    "        components = pca.fit_transform(df)\n",
    "        df = pd.DataFrame(data=components)\n",
    "    df_new = df.to_numpy()\n",
    "    return df_new"
   ]
  },
  {
   "cell_type": "code",
   "execution_count": 4,
   "id": "5b994032",
   "metadata": {
    "execution": {
     "iopub.execute_input": "2024-03-21T11:35:57.304369Z",
     "iopub.status.busy": "2024-03-21T11:35:57.303979Z",
     "iopub.status.idle": "2024-03-21T11:35:57.314674Z",
     "shell.execute_reply": "2024-03-21T11:35:57.313448Z"
    },
    "papermill": {
     "duration": 0.02329,
     "end_time": "2024-03-21T11:35:57.318113",
     "exception": false,
     "start_time": "2024-03-21T11:35:57.294823",
     "status": "completed"
    },
    "tags": []
   },
   "outputs": [],
   "source": [
    "def preprocess_folder(folder_path, is_pca=0, num_pca=2, items=50,window_length_ms=20, hop_length_ms=10):\n",
    "    '''\n",
    "    Return a numpy array containing preprocessed data from all .wav files in the specified folder.\n",
    "    '''\n",
    "    # Initialize an empty list to store data from all files\n",
    "    data_list = []\n",
    "    i = 0\n",
    "    # Iterate over all files in the folder\n",
    "    for file_name in os.listdir(folder_path):\n",
    "        if(i>items):\n",
    "            break\n",
    "        # Check if the file is a .wav file\n",
    "        if file_name.endswith('.wav'):\n",
    "            # Get the full path of the audio file\n",
    "            audio_file = os.path.join(folder_path, file_name)\n",
    "            # samples, sample_rate = librosa.load(audio_file, sr=16000)\n",
    "            #print(f\"Processing {audio_file}: original samples are {samples.shape} and sample rate is {sample_rate}\")\n",
    "\n",
    "            # Remove silence at start and end\n",
    "            # samples_trimmed, _ = librosa.effects.trim(samples, top_db=60)\n",
    "            a, b, c, d = feature_extractor(audio_file)\n",
    "            # tot = np.concatenate((a, b, c, d)).T\n",
    "            tot = d.T\n",
    "\n",
    "            # Create a DataFrame with column names as MFCC_1, MFCC_2, etc.\n",
    "            columns = [f'MFCC_{i+1}' for i in range(tot.shape[1])]\n",
    "            df = pd.DataFrame(tot, columns=columns)\n",
    "\n",
    "            if is_pca == 1:\n",
    "                pca = PCA(n_components=num_pca)\n",
    "                components = pca.fit_transform(df)\n",
    "                df = pd.DataFrame(data=components)\n",
    "\n",
    "            # Append the DataFrame to the list\n",
    "            data_list.append(df)\n",
    "        i += 1\n",
    "\n",
    "    # Concatenate all DataFrames in the list to create a single DataFrame\n",
    "    concatenated_df = pd.concat(data_list, ignore_index=True)\n",
    "    \n",
    "    # Convert the DataFrame to a numpy array\n",
    "    array_data = concatenated_df.to_numpy()\n",
    "    \n",
    "    return array_data"
   ]
  },
  {
   "cell_type": "markdown",
   "id": "51c2acc1",
   "metadata": {
    "papermill": {
     "duration": 0.007111,
     "end_time": "2024-03-21T11:35:57.333482",
     "exception": false,
     "start_time": "2024-03-21T11:35:57.326371",
     "status": "completed"
    },
    "tags": []
   },
   "source": [
    "# Histogram plot to show that its mixture of gaussians"
   ]
  },
  {
   "cell_type": "markdown",
   "id": "23a49c00",
   "metadata": {
    "papermill": {
     "duration": 0.006933,
     "end_time": "2024-03-21T11:35:57.348038",
     "exception": false,
     "start_time": "2024-03-21T11:35:57.341105",
     "status": "completed"
    },
    "tags": []
   },
   "source": [
    "# Main Code"
   ]
  },
  {
   "cell_type": "code",
   "execution_count": 5,
   "id": "3c25c28c",
   "metadata": {
    "execution": {
     "iopub.execute_input": "2024-03-21T11:35:57.364948Z",
     "iopub.status.busy": "2024-03-21T11:35:57.364210Z",
     "iopub.status.idle": "2024-03-21T11:35:57.369321Z",
     "shell.execute_reply": "2024-03-21T11:35:57.368371Z"
    },
    "papermill": {
     "duration": 0.016697,
     "end_time": "2024-03-21T11:35:57.371967",
     "exception": false,
     "start_time": "2024-03-21T11:35:57.355270",
     "status": "completed"
    },
    "tags": []
   },
   "outputs": [],
   "source": [
    "from sklearn.mixture import GaussianMixture\n",
    "import seaborn as sns\n",
    "import matplotlib.pyplot as plt\n",
    "import os\n",
    "from sklearn.cluster import KMeans"
   ]
  },
  {
   "cell_type": "code",
   "execution_count": 6,
   "id": "b27957fb",
   "metadata": {
    "execution": {
     "iopub.execute_input": "2024-03-21T11:35:57.391593Z",
     "iopub.status.busy": "2024-03-21T11:35:57.390812Z",
     "iopub.status.idle": "2024-03-21T11:35:57.395970Z",
     "shell.execute_reply": "2024-03-21T11:35:57.394783Z"
    },
    "papermill": {
     "duration": 0.017181,
     "end_time": "2024-03-21T11:35:57.398274",
     "exception": false,
     "start_time": "2024-03-21T11:35:57.381093",
     "status": "completed"
    },
    "tags": []
   },
   "outputs": [],
   "source": [
    "train_paths = [\"../Dataset/Language-Recognition-VADaudio/Gujrati-Train\",\"../Dataset/Language-Recognition-VADaudio/Tamil-Train\",\"../Dataset/Language-Recognition-VADaudio/Telugu-Train\"]\n",
    "test_paths = [\"../Dataset/Language-Recognition-VADaudio/Gujrati-Test\",\"../Dataset/Language-Recognition-VADaudio/Tamil-Test\",\"../Dataset/Language-Recognition-VADaudio/Telugu-Test\"]"
   ]
  },
  {
   "cell_type": "code",
   "execution_count": 7,
   "id": "5bcb63ee",
   "metadata": {
    "execution": {
     "iopub.execute_input": "2024-03-21T11:35:57.415520Z",
     "iopub.status.busy": "2024-03-21T11:35:57.414642Z",
     "iopub.status.idle": "2024-03-21T11:35:57.439940Z",
     "shell.execute_reply": "2024-03-21T11:35:57.438994Z"
    },
    "papermill": {
     "duration": 0.036884,
     "end_time": "2024-03-21T11:35:57.442554",
     "exception": false,
     "start_time": "2024-03-21T11:35:57.405670",
     "status": "completed"
    },
    "tags": []
   },
   "outputs": [],
   "source": [
    "import math\n",
    "from scipy.stats import multivariate_normal\n",
    "import numpy as np\n",
    "\n",
    "def transform_to_diagonal_matrix(matrix):\n",
    "    for i in range(len(matrix)):\n",
    "        diag = np.einsum('ii->i', matrix[i])\n",
    "        save = diag.copy()\n",
    "        matrix[i][...] = 0\n",
    "        matrix[i] = np.diag(save)\n",
    "    return matrix\n",
    "\n",
    "\n",
    "class GMM:\n",
    "    def __init__(self,X,n_mixtures, covariance_type, max_iter = 40, tol = 0.0001):\n",
    "        self.n_mixtures = n_mixtures\n",
    "        self.max_iter = max_iter\n",
    "        self.tol = tol\n",
    "        self.X = X\n",
    "        self.covariance_type = covariance_type\n",
    "        \n",
    "    def initialize(self):\n",
    "        self.alpha = [(1/self.n_mixtures) for i in range(self.n_mixtures)]\n",
    "        kmeans = KMeans(self.n_mixtures).fit(self.X)\n",
    "        mu_k = kmeans.cluster_centers_\n",
    "        self.mean  = mu_k\n",
    "        sigma_ = [np.cov(np.array(self.X[kmeans.labels_==i].T)+0.1) for i in range(self.n_mixtures)]\n",
    "        \n",
    "        self.sigma = sigma_\n",
    "        \n",
    "    def expectation_step(self, X):\n",
    "        self.likelihood_data = self.predict_likelihood(X)\n",
    "        \n",
    "    def maximization_step(self, X):\n",
    "        self.alpha = np.mean(self.predict_likelihood(X), axis=0)\n",
    "        \n",
    "        for i in range(self.n_mixtures):\n",
    "            like_prob = self.likelihood_data[:, i]\n",
    "            num = X * like_prob.reshape((X.shape[0], 1))\n",
    "            self.mean[i]  = np.sum(num, axis = 0) / np.sum(like_prob)\n",
    "            \n",
    "            cov = like_prob.reshape((1, X.shape[0])) * (X - self.mean[i]).T\n",
    "            cov = cov.dot((X - self.mean[i]))\n",
    "            cov /= np.sum(like_prob)\n",
    "            self.sigma[i] = cov\n",
    "            \n",
    "            if self.covariance_type == 'diag':\n",
    "                self.sigma = transform_to_diagonal_matrix(self.sigma)\n",
    "    \n",
    "    def predict_likelihood(self, X):\n",
    "        likelihood = np.zeros( (X.shape[0], self.n_mixtures))\n",
    "        \n",
    "        for i in range(self.n_mixtures):\n",
    "            distribution = multivariate_normal(mean=self.mean[i], cov=self.sigma[i],allow_singular=True)\n",
    "            likelihood[:,i] = distribution.pdf(X)\n",
    "\n",
    "            \n",
    "        likelihood_gmm = likelihood * self.alpha\n",
    "        total_likelihood = likelihood_gmm.sum(axis=1)[:, np.newaxis]\n",
    "        likelihood_gmm = likelihood_gmm / total_likelihood\n",
    "        return likelihood_gmm\n",
    "    \n",
    "    def calc_log_likelihood(self, X):\n",
    "        likelihood = np.zeros( (X.shape[0], self.n_mixtures) )\n",
    "        for i in range(self.n_mixtures):\n",
    "            distribution = multivariate_normal(mean=self.mean[i], cov=self.sigma[i],allow_singular=True)\n",
    "            likelihood[:,i] = distribution.pdf(X)\n",
    "\n",
    "            \n",
    "        numerator = likelihood * self.alpha\n",
    "        #print(\"Num\",numerator)\n",
    "        log_like = np.log(np.sum(numerator, axis=1))\n",
    "        log_like = np.sum(log_like)\n",
    "        return log_like\n",
    "    \n",
    "    # X - n_samples, n_features\n",
    "    def fit(self, X):\n",
    "        \n",
    "        self.initialize()\n",
    "        log_likelihood = []\n",
    "        last = self.max_iter\n",
    "        \n",
    "        for i in range(self.max_iter):\n",
    "            self.expectation_step(X)\n",
    "            self.maximization_step(X)\n",
    "            \n",
    "            log_likelihood.append(self.calc_log_likelihood(X))\n",
    "            if i > 2 and abs(abs(log_likelihood[-1]) - abs(log_likelihood[-2])) < self.tol:\n",
    "                last = i+1\n",
    "                break\n",
    "        \n",
    "        plt.plot(range(last), log_likelihood,color='g', linewidth=2)\n",
    "        plt.xlabel('Number of Iteration')\n",
    "        plt.ylabel('Log Likelihood')\n",
    "        plt.title('Variation of Log Likelihood for each iteration')\n",
    "        plt.tight_layout()  \n",
    "        plt.show()"
   ]
  },
  {
   "cell_type": "code",
   "execution_count": 8,
   "id": "2ffeada0",
   "metadata": {
    "execution": {
     "iopub.execute_input": "2024-03-21T11:35:57.459695Z",
     "iopub.status.busy": "2024-03-21T11:35:57.459001Z",
     "iopub.status.idle": "2024-03-21T11:35:57.490270Z",
     "shell.execute_reply": "2024-03-21T11:35:57.488898Z"
    },
    "papermill": {
     "duration": 0.043455,
     "end_time": "2024-03-21T11:35:57.493424",
     "exception": false,
     "start_time": "2024-03-21T11:35:57.449969",
     "status": "completed"
    },
    "tags": []
   },
   "outputs": [],
   "source": [
    "class GMMNew:\n",
    "    def __init__(\n",
    "        self, \n",
    "        n_mixtures=120, \n",
    "        max_iter=100, \n",
    "        covar_type='full', \n",
    "    ):\n",
    "        self.n_mixtures = n_mixtures\n",
    "        self.max_iter = max_iter\n",
    "        self.alphas = np.ones(n_mixtures) / n_mixtures\n",
    "        self.means = None\n",
    "        self.covs = None\n",
    "        self.covar_type = covar_type\n",
    "        self.log_likelihood_plot_list = None\n",
    "        \n",
    "\n",
    "    def p(self, data, mean, cov):\n",
    "        dist = multivariate_normal(mean=mean, cov=cov,allow_singular=True)\n",
    "        return dist.pdf(data)\n",
    "    \n",
    "    def predict(self, data):\n",
    "        posteriors = np.zeros((len(data), self.n_mixtures))\n",
    "        for i in range(self.n_mixtures):\n",
    "            posteriors[:, i] = self.alphas[i] * self.p(data, self.means[i], self.covs[i])\n",
    "        labels = np.argmax(posteriors, axis=1)\n",
    "        return labels\n",
    "    \n",
    "    def get_score(self,data):\n",
    "        resp = np.zeros((len(data), self.n_mixtures))\n",
    "        # find responsibility of each data point towards a Gaussian\n",
    "        for i in range(self.n_mixtures):\n",
    "            resp[:, i] = self.alphas[i] * self.p(data, self.means[i], self.covs[i])\n",
    "        return np.mean(np.log(resp.sum(axis=1)))\n",
    "    \n",
    "    def full_covar(self, data, resp):\n",
    "        new_covs = np.zeros_like(self.covs)\n",
    "        for i in range(self.n_mixtures):\n",
    "            diff = data - self.means[i]\n",
    "            new_covs[i] = np.dot(resp[:, i] * diff.T, diff) / resp[:, i].sum()\n",
    "            # regularization term to keep the covariance matrix positive semi-definite\n",
    "            new_covs[i].flat[::data.shape[1] + 1] += 1e-6\n",
    "        return new_covs\n",
    "            \n",
    "    def diag_covar(self, data, resp):\n",
    "        sqrd_data = np.dot(resp.T, data * data) / resp.sum(axis=0)[:, None]\n",
    "        sqrd_means = self.means ** 2\n",
    "        means = self.means * np.dot(resp.T, data) / resp.sum(axis=0)[:, None]\n",
    "        diag_covs = (sqrd_data - 2 * means + sqrd_means + 1e-6)\n",
    "        new_covs = [np.diag(cov) for cov in diag_covs]\n",
    "        return new_covs\n",
    "    \n",
    "    def e_step(self, data):\n",
    "        resp = np.zeros((len(data), self.n_mixtures))\n",
    "        # find responsibility of each data point towards a Gaussian\n",
    "        for i in range(self.n_mixtures):\n",
    "            resp[:, i] = self.alphas[i] * self.p(data, self.means[i], self.covs[i])\n",
    "        self.log_likelihood_plot_list.append(np.mean(np.log(resp.sum(axis=1))))\n",
    "        # normalize the sum\n",
    "        resp = resp / resp.sum(axis=1)[:, None]\n",
    "        return resp\n",
    "    \n",
    "    def m_step(self, data, resp):        \n",
    "        # re-estimation for alphas\n",
    "        new_alphas = resp.mean(axis=0)\n",
    "        \n",
    "        # re-estimation for means\n",
    "        new_means = np.zeros_like(self.means)\n",
    "        for i in range(self.n_mixtures):\n",
    "            new_means[i] = np.multiply(resp[:, i][:, None], data).sum(axis=0) / resp[:, i].sum()\n",
    "        \n",
    "        # re-estimation for covariance matrix\n",
    "        if self.covar_type == 'full':\n",
    "            new_covs = self.full_covar(data, resp)\n",
    "        elif self.covar_type == 'diag':\n",
    "            new_covs = self.diag_covar(data, resp)\n",
    "        else:\n",
    "            raise NotImplementedError()\n",
    "            \n",
    "        return new_alphas, new_means, new_covs\n",
    "    \n",
    "        \n",
    "    def fit(self, data):\n",
    "        n_features = data.shape[1]\n",
    "        last = 0\n",
    "        # intialize empty lists to store images and \n",
    "        self.log_likelihood_plot_list = []\n",
    "        \n",
    "        # initialize means\n",
    "        kmeans_model =  KMeans(self.n_mixtures).fit(data)\n",
    "        self.means = kmeans_model.cluster_centers_\n",
    "        \n",
    "        # initialize cov\n",
    "        self.covs = np.zeros((self.n_mixtures, n_features, n_features))\n",
    "        data_labels = kmeans_model.labels_\n",
    "\n",
    "        for i in range(self.n_mixtures):\n",
    "            self.covs[i] = np.cov(data[data_labels == i].T+0.1)\n",
    "        \n",
    "        # EM - algorithm\n",
    "        for step in range(self.max_iter):\n",
    "            last = step\n",
    "            # for each data point find its responsibility\n",
    "            # towards each gaussian\n",
    "            resp = self.e_step(data)\n",
    "            \n",
    "            # re-estimation of model parameters\n",
    "            alphas, means, covs = self.m_step(data, resp)\n",
    "            \n",
    "            \n",
    "            # break if convergence\n",
    "            if np.allclose(self.alphas, alphas, rtol=1e-4, atol=1e-4) and \\\n",
    "               np.allclose(self.means, means, rtol=1e-4, atol=1e-4) and \\\n",
    "               np.allclose(self.covs, covs, rtol=1e-4, atol=1e-4):\n",
    "                print(\"Converged at\",step)\n",
    "                break\n",
    "                \n",
    "            self.alphas = alphas\n",
    "            self.means = means\n",
    "            self.covs = covs\n",
    "        \n",
    "        self.log_likelihood_plot_list = self.log_likelihood_plot_list[1:]\n",
    "\n",
    "        # plt.plot(range(last), self.log_likelihood_plot_list,color='g', linewidth=2)\n",
    "        # plt.xlabel('Number of Iteration')\n",
    "        # plt.ylabel('Log Likelihood')\n",
    "        # plt.title('Variation of Log Likelihood for each iteration')\n",
    "        # plt.tight_layout()  \n",
    "        # plt.show()\n",
    "        "
   ]
  },
  {
   "cell_type": "code",
   "execution_count": 9,
   "id": "0e4ab202",
   "metadata": {
    "execution": {
     "iopub.execute_input": "2024-03-21T11:35:57.510466Z",
     "iopub.status.busy": "2024-03-21T11:35:57.510006Z",
     "iopub.status.idle": "2024-03-21T11:35:57.526248Z",
     "shell.execute_reply": "2024-03-21T11:35:57.525033Z"
    },
    "papermill": {
     "duration": 0.027995,
     "end_time": "2024-03-21T11:35:57.528985",
     "exception": false,
     "start_time": "2024-03-21T11:35:57.500990",
     "status": "completed"
    },
    "tags": []
   },
   "outputs": [],
   "source": [
    "from sklearn.metrics import f1_score\n",
    "def pipeline(n_components_gmm,is_pca,num_pca):\n",
    "    gmms = []\n",
    "    i = 0\n",
    "    for path in train_paths:\n",
    "        i += 1\n",
    "        X = preprocess_folder(path,is_pca,num_pca,items=110)\n",
    "        gmm = GMMNew(n_components_gmm,100,'full')\n",
    "        gmm.fit(data=X)\n",
    "        with open(f'gmm_{n_components_gmm}_{num_pca}_{i}.pkl', 'wb') as f:\n",
    "            pickle.dump(gmm, f)\n",
    "        gmms.append(gmm)\n",
    "        print(f\"{path} is done\")\n",
    "\n",
    "    # Initialize confusion matrix\n",
    "    confusion_matrix = np.zeros((3, 3))  # 3 classes: Gujrati, Tamil, Telugu\n",
    "\n",
    "    for idx, path in enumerate(test_paths):\n",
    "        # Initialize counters for each class\n",
    "        class_counts = {0: 0, 1: 0, 2: 0}\n",
    "        for root, _, files in os.walk(path):\n",
    "            for file in files:\n",
    "                vector = preprocess(root+'/'+file,is_pca,num_pca)\n",
    "                log_likelihood = np.zeros(len(gmms)) \n",
    "                for i in range(len(gmms)):\n",
    "                    gmm    = gmms[i]  #checking with each model one by one\n",
    "                    log_likelihood[i] = gmm.get_score(vector)\n",
    "            \n",
    "                winner = np.argmax(log_likelihood)\n",
    "                class_counts[winner] += 1  # Increment the count for the winner class\n",
    "\n",
    "        # Update confusion matrix\n",
    "        for true_label, count in class_counts.items():\n",
    "            confusion_matrix[idx, true_label] = count\n",
    "\n",
    "    # Define class labels\n",
    "    class_labels = ['Gujrati', 'Tamil', 'Telugu']\n",
    "\n",
    "    plt.figure(figsize=(8, 6))\n",
    "    sns.heatmap(confusion_matrix, annot=True, cmap='Blues', fmt='g', xticklabels=class_labels, yticklabels=class_labels)\n",
    "    plt.xlabel('Predicted Label')\n",
    "    plt.ylabel('True Label')\n",
    "    plt.title('Confusion Matrix')\n",
    "    plt.show()\n",
    "\n",
    "    # Calculate accuracy\n",
    "    accuracy = np.trace(confusion_matrix) / np.sum(confusion_matrix)\n",
    "    print(f\"Overall Accuracy: {accuracy*100:.2f}%\")"
   ]
  },
  {
   "cell_type": "markdown",
   "id": "b5e5ab1a",
   "metadata": {
    "papermill": {
     "duration": 0.007228,
     "end_time": "2024-03-21T11:35:57.543774",
     "exception": false,
     "start_time": "2024-03-21T11:35:57.536546",
     "status": "completed"
    },
    "tags": []
   },
   "source": [
    "## Plotting Graphs - Confusion Matrix"
   ]
  },
  {
   "cell_type": "code",
   "execution_count": 10,
   "id": "5317b746",
   "metadata": {
    "execution": {
     "iopub.execute_input": "2024-03-21T11:35:57.561450Z",
     "iopub.status.busy": "2024-03-21T11:35:57.561020Z",
     "iopub.status.idle": "2024-03-21T19:20:00.487594Z",
     "shell.execute_reply": "2024-03-21T19:20:00.486304Z"
    },
    "papermill": {
     "duration": 27842.957084,
     "end_time": "2024-03-21T19:20:00.508270",
     "exception": false,
     "start_time": "2024-03-21T11:35:57.551186",
     "status": "completed"
    },
    "tags": []
   },
   "outputs": [
    {
     "name": "stdout",
     "output_type": "stream",
     "text": [
      "Num comp:32, Num PCA:24\n",
      "../Dataset/Language-Recognition-VADaudio/Gujrati-Train is done\n",
      "../Dataset/Language-Recognition-VADaudio/Tamil-Train is done\n",
      "../Dataset/Language-Recognition-VADaudio/Telugu-Train is done\n"
     ]
    },
    {
     "data": {
      "image/png": "[encoded data removed]",
      "text/plain": [
       "<Figure size 576x432 with 2 Axes>"
      ]
     },
     "metadata": {
      "needs_background": "light"
     },
     "output_type": "display_data"
    },
    {
     "name": "stdout",
     "output_type": "stream",
     "text": [
      "Overall Accuracy: 41.33%\n",
      "Num comp:64, Num PCA:24\n",
      "../Dataset/Language-Recognition-VADaudio/Gujrati-Train is done\n",
      "../Dataset/Language-Recognition-VADaudio/Tamil-Train is done\n",
      "../Dataset/Language-Recognition-VADaudio/Telugu-Train is done\n"
     ]
    },
    {
     "data": {
      "image/png": "[encoded data removed]",
      "text/plain": [
       "<Figure size 576x432 with 2 Axes>"
      ]
     },
     "metadata": {
      "needs_background": "light"
     },
     "output_type": "display_data"
    },
    {
     "name": "stdout",
     "output_type": "stream",
     "text": [
      "Overall Accuracy: 40.33%\n"
     ]
    }
   ],
   "source": [
    "import warnings\n",
    "warnings.filterwarnings(\"ignore\")\n",
    "\n",
    "n_comp_list = [32,64]\n",
    "num_pca_list = [24]\n",
    "for num_pca_cand in num_pca_list:\n",
    "    for n_comp in n_comp_list:\n",
    "        print(f\"Num comp:{n_comp}, Num PCA:{num_pca_cand}\")\n",
    "        if(num_pca_cand==39):\n",
    "            is_pca = 0\n",
    "        else:\n",
    "            is_pca = 1\n",
    "        pipeline(n_comp,is_pca,num_pca_cand)"
   ]
  },
  {
   "cell_type": "markdown",
   "id": "b52e3e05",
   "metadata": {
    "papermill": {
     "duration": 0.016507,
     "end_time": "2024-03-21T19:20:00.541553",
     "exception": false,
     "start_time": "2024-03-21T19:20:00.525046",
     "status": "completed"
    },
    "tags": []
   },
   "source": [
    "# By using full dataset"
   ]
  },
  {
   "cell_type": "code",
   "execution_count": 11,
   "id": "9d0b2659",
   "metadata": {
    "execution": {
     "iopub.execute_input": "2024-03-21T19:20:00.578100Z",
     "iopub.status.busy": "2024-03-21T19:20:00.577416Z",
     "iopub.status.idle": "2024-03-21T19:20:00.594113Z",
     "shell.execute_reply": "2024-03-21T19:20:00.592417Z"
    },
    "papermill": {
     "duration": 0.038864,
     "end_time": "2024-03-21T19:20:00.597332",
     "exception": false,
     "start_time": "2024-03-21T19:20:00.558468",
     "status": "completed"
    },
    "tags": []
   },
   "outputs": [],
   "source": [
    "def pipeline_full(n_components_gmm,is_pca,num_pca):\n",
    "    gmms = []\n",
    "\n",
    "    for path in train_paths:\n",
    "        X = preprocess_folder(path,is_pca,num_pca,items=240)\n",
    "        gmm = GMMNew(n_components_gmm,100,'full')\n",
    "        gmm.fit(data=X)\n",
    "        gmms.append(gmm)\n",
    "        with open(f'gmmfull_{n_components_gmm}_{num_pca}.pkl', 'wb') as f:\n",
    "            pickle.dump(gmm, f)\n",
    "        print(f\"{path} is done\")\n",
    "\n",
    "    # Initialize confusion matrix\n",
    "    confusion_matrix = np.zeros((3, 3))  # 3 classes: Gujrati, Tamil, Telugu\n",
    "\n",
    "    for idx, path in enumerate(test_paths):\n",
    "        # Initialize counters for each class\n",
    "        class_counts = {0: 0, 1: 0, 2: 0}\n",
    "        for root, _, files in os.walk(path):\n",
    "            for file in files:\n",
    "                vector = preprocess(root+'/'+file,is_pca,num_pca)\n",
    "                log_likelihood = np.zeros(len(gmms)) \n",
    "                for i in range(len(gmms)):\n",
    "                    gmm    = gmms[i]  #checking with each model one by one\n",
    "                    log_likelihood[i] = gmm.get_score(vector)\n",
    "            \n",
    "                winner = np.argmax(log_likelihood)\n",
    "                class_counts[winner] += 1  # Increment the count for the winner class\n",
    "\n",
    "        # Update confusion matrix\n",
    "        for true_label, count in class_counts.items():\n",
    "            confusion_matrix[idx, true_label] = count\n",
    "\n",
    "    # Define class labels\n",
    "    class_labels = ['Gujrati', 'Tamil', 'Telugu']\n",
    "\n",
    "    plt.figure(figsize=(8, 6))\n",
    "    sns.heatmap(confusion_matrix, annot=True, cmap='Blues', fmt='g', xticklabels=class_labels, yticklabels=class_labels)\n",
    "    plt.xlabel('Predicted Label')\n",
    "    plt.ylabel('True Label')\n",
    "    plt.title('Confusion Matrix')\n",
    "    plt.show()\n",
    "\n",
    "    # Calculate accuracy\n",
    "    accuracy = np.trace(confusion_matrix) / np.sum(confusion_matrix)\n",
    "    print(f\"Overall Accuracy: {accuracy*100:.2f}%\")"
   ]
  },
  {
   "cell_type": "code",
   "execution_count": 12,
   "id": "4e03767a",
   "metadata": {
    "execution": {
     "iopub.execute_input": "2024-03-21T19:20:00.633132Z",
     "iopub.status.busy": "2024-03-21T19:20:00.632751Z",
     "iopub.status.idle": "2024-03-21T19:20:00.637746Z",
     "shell.execute_reply": "2024-03-21T19:20:00.636480Z"
    },
    "papermill": {
     "duration": 0.026027,
     "end_time": "2024-03-21T19:20:00.640292",
     "exception": false,
     "start_time": "2024-03-21T19:20:00.614265",
     "status": "completed"
    },
    "tags": []
   },
   "outputs": [],
   "source": [
    "# n_comp_list = [32,64,120,256,512]\n",
    "# num_pca_list = [39,24,13,6]\n",
    "# for num_pca_cand in num_pca_list:\n",
    "#     for n_comp in n_comp_list:\n",
    "#         print(f\"Num comp:{n_comp}, Num PCA:{num_pca_cand}\")\n",
    "#         if(num_pca_cand==39):\n",
    "#             is_pca = 0\n",
    "#         else:\n",
    "#             is_pca = 1\n",
    "#         pipeline(n_comp,is_pca,num_pca_cand)"
   ]
  }
 ],
 "metadata": {
  "kaggle": {
   "accelerator": "none",
   "dataSources": [
    {
     "datasetId": 4640507,
     "sourceId": 7901425,
     "sourceType": "datasetVersion"
    },
    {
     "datasetId": 4642876,
     "sourceId": 7904573,
     "sourceType": "datasetVersion"
    }
   ],
   "dockerImageVersionId": 30674,
   "isGpuEnabled": false,
   "isInternetEnabled": true,
   "language": "python",
   "sourceType": "notebook"
  },
  "kernelspec": {
   "display_name": "Python 3",
   "language": "python",
   "name": "python3"
  },
  "language_info": {
   "codemirror_mode": {
    "name": "ipython",
    "version": 3
   },
   "file_extension": ".py",
   "mimetype": "text/x-python",
   "name": "python",
   "nbconvert_exporter": "python",
   "pygments_lexer": "ipython3",
   "version": "3.10.1"
  },
  "papermill": {
   "default_parameters": {},
   "duration": 27869.093764,
   "end_time": "2024-03-21T19:20:02.049647",
   "environment_variables": {},
   "exception": null,
   "input_path": "__notebook__.ipynb",
   "output_path": "__notebook__.ipynb",
   "parameters": {},
   "start_time": "2024-03-21T11:35:32.955883",
   "version": "2.5.0"
  }
 },
 "nbformat": 4,
 "nbformat_minor": 5
}
